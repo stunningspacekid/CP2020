{
 "cells": [
  {
   "cell_type": "markdown",
   "metadata": {},
   "source": [
    "\n",
    "используя квадратурные формулы Гаусса посчитайте интеграл cosh(x)*sqrt(1-x^2)dx от -1 до 1"
   ]
  },
  {
   "cell_type": "code",
   "execution_count": 64,
   "metadata": {},
   "outputs": [
    {
     "name": "stdout",
     "output_type": "stream",
     "text": [
      "Wolfram's truth is 1.7755 \n",
      "\n",
      "1 1.5707963267948966\n",
      "2 1.771270724144733\n",
      "3 1.7754646765951378\n",
      "4 1.7754995336151125\n",
      "5 1.77549968878138\n"
     ]
    }
   ],
   "source": [
    "import numpy as np\n",
    "from math import cosh, sqrt\n",
    "from scipy.special import u_roots #sqrt(1 - x**2)\n",
    "\n",
    "print(\"Wolfram's truth is 1.7755\", '\\n')\n",
    "\n",
    "def f(x):\n",
    "    \n",
    "    return cosh(x)\n",
    "\n",
    "for n in range (1, 6): #we know that 5 is the most common\n",
    "    \n",
    "    nodes, weights = u_roots(n)\n",
    "    a = []\n",
    "    \n",
    "    for i in range(len(nodes)):\n",
    "        a.append (weights[i] * f(nodes[i]))\n",
    "                  \n",
    "    print(n, np.sum(a))"
   ]
  },
  {
   "cell_type": "markdown",
   "metadata": {},
   "source": [
    "Fair enough!"
   ]
  }
 ],
 "metadata": {
  "kernelspec": {
   "display_name": "Python 3",
   "language": "python",
   "name": "python3"
  },
  "language_info": {
   "codemirror_mode": {
    "name": "ipython",
    "version": 3
   },
   "file_extension": ".py",
   "mimetype": "text/x-python",
   "name": "python",
   "nbconvert_exporter": "python",
   "pygments_lexer": "ipython3",
   "version": "3.7.1"
  }
 },
 "nbformat": 4,
 "nbformat_minor": 2
}
