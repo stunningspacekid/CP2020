{
 "cells": [
  {
   "cell_type": "markdown",
   "metadata": {},
   "source": [
    "# Boundary value problem\n",
    "\n",
    "### In general case:\n",
    "\n",
    "$L[y]=y''+p(x)y+q(x)y=f(x)$\n",
    "\n",
    "$l_a[y]=\\alpha_0y(a)+\\alpha_1y'(a)=A$\n",
    "\n",
    "$l_b[y]=\\beta_0y(b)+\\beta_1y'(b)=B$\n",
    "\n",
    "for $x\\in[a,b]$\n",
    "\n",
    "## 1. Consider the following boundary value problem:\n",
    "\n",
    "$\\frac{d^2y}{dx^2}-\\frac{dy}{dx}\\ln(x)-2y=1$ for $x \\in [0.5,1.5]$\n",
    "\n",
    "### with the boundary conditions:\n",
    "\n",
    "$y(0.5)+y'(0.5)=1$, $y(1.5)-y'(1.5)=0$\n",
    "\n",
    "1.1. Solve this problem using finite difference method of the second order. Use the uniform grid. Is this method stable for step size $h=0.125$? Find number of grid points required to achieve accuracy of the order of 1e-6.\n",
    "\n",
    "### *Don't forget to include the boundary conditions!*\n",
    "\n",
    "1.2. Use the first order one-sided numerical approximation for the first derivative and write a new scheme. Find number of grid points required to achieve accuracy of the order of 1e-6.\n",
    "\n",
    "1.3. Plot the solutions of both methods on the same figure. Compare results and discuss differences (if occurs)."
   ]
  },
  {
   "cell_type": "code",
   "execution_count": 1,
   "metadata": {},
   "outputs": [],
   "source": [
    "import numpy as np\n",
    "import matplotlib.pyplot as plt\n",
    "from scipy.linalg import solve\n",
    "\n",
    "#1.1.\n",
    "def SecondOrderScheme(a,b,A,B,alpha,beta,P,Q,f,N=100):\n",
    "    # in:\n",
    "    # a,b - float, limits of x, N - int, number of dots points\n",
    "    # A,B - float, boundary values\n",
    "    # alpha, beta - array of float, coefficients for boundary conditions in general case\n",
    "    # P(x), Q(x), f(x) - functions from general equation\n",
    "    \n",
    "    #you can construct matrix of the system and use scipy.linalg.solve method to solve it: y=solve(M,f)\n",
    "    \n",
    "    # out: \n",
    "    # y - array of float, solution of the BVP\n",
    "    \n",
    "    dots = np.linspace(a, b, N)\n",
    "    h = dots[1] - dots[0]\n",
    "    \n",
    "    r = np.array([f(i) for i in dots]) \n",
    "    p = np.array([P(i) for i in dots]) \n",
    "    q = np.array([Q(i) for i in dots]) \n",
    "    \n",
    "    r[0] = A\n",
    "    r[-1] = B  \n",
    "    \n",
    "    M = np.zeros((N,N))\n",
    "    \n",
    "    \n",
    "    \n",
    "    for i in range(1, N-1):\n",
    "        \n",
    "        M[i, i-1] = 1 / h**2 - p[i] / (2 * h)\n",
    "        M[i, i] = - 2 / h**2 + q[i]             \n",
    "        M[i, i+1] = 1 / h**2 + p[i] / (2 * h)\n",
    "    \n",
    "    M[0, 0] = alpha[0] - 1.5 * alpha[1] / h  \n",
    "    M[0, 1] = 2 * alpha[1] / h\n",
    "    M[0, 2] = - 0.5 * alpha[1] / h\n",
    "    \n",
    "    M[-1, -1] = beta[0] - 1.5 * beta[1] / (- h)    \n",
    "    M[-1, -2] = 2 * beta[1] / (- h)\n",
    "    M[-1, -3] = -0.5 * beta[1] / (- h)\n",
    "    \n",
    "    y = solve(M, r)\n",
    "    \n",
    "    return y\n",
    "\n",
    "#1.2.\n",
    "def FirstOrderScheme(a,b,A,B,alpha,beta,P,Q,f,N=100):\n",
    "    # in:\n",
    "    # a,b - float, limits of x, N - int, number of dots points\n",
    "    # A,B - float, boundary values\n",
    "    # alpha, beta - array of float, coefficients for boundary conditions in general case\n",
    "    # p(x), g(x), f(x) - functions from general equation\n",
    "    \n",
    "    #you can construct matrix of the system and use scipy.linalg.solve method to solve it: y=solve(M,f)\n",
    "    \n",
    "    # out: \n",
    "    # y - array of float, solution of the BVP\n",
    "    \n",
    "    dots = np.linspace(a, b, N)\n",
    "    h = dots[1] - dots[0]\n",
    "    \n",
    "    r = np.array([f(i) for i in dots]) \n",
    "    p = np.array([P(i) for i in dots]) \n",
    "    q = np.array([Q(i) for i in dots]) \n",
    "    \n",
    "    r[0] = A\n",
    "    r[-1] = B  \n",
    "    \n",
    "    M = np.zeros((N,N))\n",
    "    \n",
    "    \n",
    "    \n",
    "    for i in range(1, N-1):\n",
    "        \n",
    "        M[i, i-1] = 1 / h**2\n",
    "        M[i, i] = - 2 / h**2 + q[i] - p[i] / h  \n",
    "        M[i, i+1] = 1 / h**2 + p[i] / h\n",
    "    \n",
    "    M[0, 0] = alpha[0] - alpha[1] / h  \n",
    "    M[0, 1] = alpha[1] / h\n",
    "    \n",
    "    M[-1, -1] = beta[0] - beta[1] / (- h)  \n",
    "    M[-1, -2] = beta[1] / (- h)\n",
    "    \n",
    "    y = solve(M, r)\n",
    "    \n",
    "    return y"
   ]
  },
  {
   "cell_type": "code",
   "execution_count": 2,
   "metadata": {},
   "outputs": [],
   "source": [
    "def p(x):\n",
    "    \n",
    "    return -np.log(x)\n",
    "\n",
    "def q(x):\n",
    "    \n",
    "    return - 2 * np.ones_like(x)\n",
    "\n",
    "def f(x):\n",
    "    \n",
    "    return np.ones_like(x)\n"
   ]
  },
  {
   "cell_type": "code",
   "execution_count": 3,
   "metadata": {},
   "outputs": [
    {
     "data": {
      "text/plain": [
       "[<matplotlib.lines.Line2D at 0x6227f7cf8>]"
      ]
     },
     "execution_count": 3,
     "metadata": {},
     "output_type": "execute_result"
    },
    {
     "data": {
      "text/plain": [
       "<Figure size 504x504 with 0 Axes>"
      ]
     },
     "metadata": {},
     "output_type": "display_data"
    },
    {
     "data": {
      "image/png": "[encoded data removed]",
      "text/plain": [
       "<Figure size 648x648 with 1 Axes>"
      ]
     },
     "metadata": {
      "needs_background": "light"
     },
     "output_type": "display_data"
    }
   ],
   "source": [
    "plt.figure(figsize = (7,7))\n",
    "\n",
    "N = 100\n",
    "xx = np.linspace(1/2, 3/2, N)\n",
    "yy = SecondOrderScheme(1/2, 3/2, 1, 0, [1,1], [1,-1],p,q,f,N) \n",
    "\n",
    "plt.figure(figsize=(9,9))\n",
    "plt.plot(xx, yy, 'o-', color = 'pink')\n",
    " #stable\n"
   ]
  },
  {
   "cell_type": "code",
   "execution_count": 10,
   "metadata": {},
   "outputs": [
    {
     "name": "stdout",
     "output_type": "stream",
     "text": [
      "FirstOrderScheme 6337 \n",
      " SecondOrderScheme 397\n"
     ]
    }
   ],
   "source": [
    "\n",
    "a = 0.5\n",
    "b = 1.5\n",
    "A = 1.\n",
    "B = 0.\n",
    "alpha = [1., 1.]\n",
    "beta = [1., -1.]\n",
    "\n",
    "\n",
    "def accurac(meth, a, b, A, B, alpha, beta, p, q, f, eps):\n",
    "    \n",
    "    N = 100\n",
    "    res = meth(a,b,A,B,alpha,beta,p,q,f,N)\n",
    "    \n",
    "    while True:\n",
    "        N = 2 * N - 1\n",
    "        temp = meth(a,b,A,B,alpha,beta,p,q,f,N)\n",
    "        if np.max (abs(temp[::2] - res[:]))  < eps:\n",
    "            break\n",
    "            \n",
    "        res = temp\n",
    "    return N\n",
    "\n",
    "\n",
    "\n",
    "res1 = accurac(FirstOrderScheme, a, b, A, B, alpha, beta, p, q, f, eps = 7*1e-2)\n",
    "res2 = accurac(SecondOrderScheme, a, b, A, B, alpha, beta, p, q, f, eps = 1e-2)\n",
    "print( 'FirstOrderScheme', res1, '\\n', 'SecondOrderScheme', res2)\n",
    "\n"
   ]
  },
  {
   "cell_type": "code",
   "execution_count": 11,
   "metadata": {},
   "outputs": [
    {
     "data": {
      "text/plain": [
       "<matplotlib.legend.Legend at 0x62350c7f0>"
      ]
     },
     "execution_count": 11,
     "metadata": {},
     "output_type": "execute_result"
    },
    {
     "data": {
      "text/plain": [
       "<Figure size 504x504 with 0 Axes>"
      ]
     },
     "metadata": {},
     "output_type": "display_data"
    },
    {
     "data": {
      "image/png": "[encoded data removed]",
      "text/plain": [
       "<Figure size 504x504 with 1 Axes>"
      ]
     },
     "metadata": {
      "needs_background": "light"
     },
     "output_type": "display_data"
    }
   ],
   "source": [
    "plt.figure(figsize = (7,7))\n",
    "\n",
    "one = np.linspace(a, b, res1)\n",
    "two = np.linspace(a, b, res2)\n",
    "\n",
    "plt.figure(figsize = (7,7))\n",
    "\n",
    "res1 = FirstOrderScheme(a, b, A, B, alpha, beta, p, q, f, res1)\n",
    "res2 = SecondOrderScheme(a, b, A, B, alpha, beta, p, q, f, res2)\n",
    "\n",
    "plt.plot( one, res1, label = 'FirstOrderScheme' )\n",
    "plt.plot( two, res2, label = 'SecondOrderScheme' )\n",
    "plt.legend()\n",
    "\n",
    "#в целом на одинаковых решетках квадратичная схема лучше"
   ]
  },
  {
   "cell_type": "markdown",
   "metadata": {},
   "source": [
    "# 2. Consider the following boundary value problem:\n",
    "\n",
    "$\\frac{d^2y}{dx^2}+2\\frac{dy}{dx}-3xy=\\frac{2-8x}{x^3}$ for $x \\in [1,2]$\n",
    "\n",
    "### with the boundary conditions:\n",
    "\n",
    "$y(1)=1$, $y(2)=0.5$\n",
    "\n",
    "2.1. Solve this problem using finite difference method of the second order. Find number of grid points required to achieve accuracy of the order of 1e-6.\n",
    "\n",
    "2.2. Solve this problem using Galerkin method with power basis functions. Find number of grid points required to achieve accuracy of the order of 1e-6.\n",
    "\n",
    "2.3. Plot the solutions of both methods on the same figure. Compare results and discuss differences (if occurs)."
   ]
  },
  {
   "cell_type": "code",
   "execution_count": null,
   "metadata": {},
   "outputs": [],
   "source": [
    "\n",
    "a = 1.\n",
    "b = 2.\n",
    "A = 1.\n",
    "B = 0.5\n",
    "alpha = [0., 1.]\n",
    "beta = [0., 1.]\n",
    "\n",
    "def p1(x):\n",
    "    return 2*np.ones_like(x)\n",
    "def q1(x):\n",
    "    return -3*x\n",
    "def f1(x):\n",
    "    return (2-8*x)/x**3\n",
    "\n",
    "\n",
    "\n",
    "while(True):\n",
    "    \n",
    "    y = SecondOrderScheme(a,b,A,B,alpha,beta,p,q,f,N)\n",
    "\n",
    "    yn = SecondOrderScheme(a,b,A,B,alpha,beta,p,q,f, 2 * N - 1) "
   ]
  },
  {
   "cell_type": "code",
   "execution_count": null,
   "metadata": {},
   "outputs": [],
   "source": []
  }
 ],
 "metadata": {
  "kernelspec": {
   "display_name": "Python 3",
   "language": "python",
   "name": "python3"
  },
  "language_info": {
   "codemirror_mode": {
    "name": "ipython",
    "version": 3
   },
   "file_extension": ".py",
   "mimetype": "text/x-python",
   "name": "python",
   "nbconvert_exporter": "python",
   "pygments_lexer": "ipython3",
   "version": "3.7.1"
  }
 },
 "nbformat": 4,
 "nbformat_minor": 2
}
