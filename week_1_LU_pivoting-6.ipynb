{
 "cells": [
  {
   "cell_type": "markdown",
   "metadata": {},
   "source": [
    "# I. $LU$ factorization of a square matrix"
   ]
  },
  {
   "cell_type": "markdown",
   "metadata": {},
   "source": [
    "Consider a simple naive implementation of the LU decomposition. \n",
    "\n",
    "Note that we're using the `numpy` arrays to represent matrices [do **not** use `np.matrix`]."
   ]
  },
  {
   "cell_type": "code",
   "execution_count": 159,
   "metadata": {},
   "outputs": [],
   "source": [
    "import numpy as np\n",
    "\n",
    "def diy_lu(a):\n",
    "    \"\"\"Construct the LU decomposition of the input matrix.\n",
    "    \n",
    "    Naive LU decomposition: work column by column, accumulate elementary triangular matrices.\n",
    "    No pivoting.\n",
    "    \"\"\"\n",
    "    N = a.shape[0]\n",
    "    \n",
    "    u = a.copy()\n",
    "    L = np.eye(N)\n",
    "    for j in range(N-1):\n",
    "        lam = np.eye(N)\n",
    "        gamma = u[j+1:, j] / u[j, j]\n",
    "        lam[j+1:, j] = -gamma\n",
    "        u = lam @ u\n",
    "\n",
    "        lam[j+1:, j] = gamma\n",
    "        L = L @ lam\n",
    "    return L, u"
   ]
  },
  {
   "cell_type": "code",
   "execution_count": 160,
   "metadata": {},
   "outputs": [
    {
     "name": "stdout",
     "output_type": "stream",
     "text": [
      "(array([[1.   , 0.   , 0.   , 0.   , 0.   , 0.   ],\n",
      "       [1.   , 1.   , 0.   , 0.   , 0.   , 0.   ],\n",
      "       [1.   , 1.455, 1.   , 0.   , 0.   , 0.   ],\n",
      "       [1.   , 1.714, 1.742, 1.   , 0.   , 0.   ],\n",
      "       [1.   , 1.882, 2.276, 2.039, 1.   , 0.   ],\n",
      "       [1.   , 2.   , 2.671, 2.944, 2.354, 1.   ]]), array([[ 3.000e+00,  3.000e+00,  3.000e+00,  3.000e+00,  3.000e+00,\n",
      "         3.000e+00],\n",
      "       [ 0.000e+00, -1.125e+00, -1.636e+00, -1.929e+00, -2.118e+00,\n",
      "        -2.250e+00],\n",
      "       [ 0.000e+00,  0.000e+00,  2.625e-01,  4.574e-01,  5.975e-01,\n",
      "         7.013e-01],\n",
      "       [ 0.000e+00,  2.220e-16,  0.000e+00, -2.197e-02, -4.480e-02,\n",
      "        -6.469e-02],\n",
      "       [ 0.000e+00, -4.528e-16,  0.000e+00,  6.939e-18,  8.080e-04,\n",
      "         1.902e-03],\n",
      "       [ 0.000e+00,  4.123e-16,  0.000e+00, -1.634e-17,  0.000e+00,\n",
      "        -1.585e-05]]))\n"
     ]
    },
    {
     "data": {
      "text/plain": [
       "6"
      ]
     },
     "execution_count": 160,
     "metadata": {},
     "output_type": "execute_result"
    }
   ],
   "source": [
    "# Now, generate a full rank matrix and test the naive implementation\n",
    "\n",
    "import numpy as np\n",
    "\n",
    "N = 6\n",
    "a = np.zeros((N, N), dtype=float)\n",
    "for i in range(N):\n",
    "    for j in range(N):\n",
    "        a[i, j] = 3. / (0.6*i*j + 1)\n",
    "        \n",
    "print(diy_lu(a))\n",
    "\n",
    "np.linalg.matrix_rank(a)"
   ]
  },
  {
   "cell_type": "code",
   "execution_count": 161,
   "metadata": {},
   "outputs": [],
   "source": [
    "# Tweak the printing of floating-point numbers, for clarity\n",
    "np.set_printoptions(precision=3)"
   ]
  },
  {
   "cell_type": "code",
   "execution_count": 162,
   "metadata": {},
   "outputs": [
    {
     "name": "stdout",
     "output_type": "stream",
     "text": [
      "[[1.    0.    0.    0.    0.    0.   ]\n",
      " [1.    1.    0.    0.    0.    0.   ]\n",
      " [1.    1.455 1.    0.    0.    0.   ]\n",
      " [1.    1.714 1.742 1.    0.    0.   ]\n",
      " [1.    1.882 2.276 2.039 1.    0.   ]\n",
      " [1.    2.    2.671 2.944 2.354 1.   ]] \n",
      "\n",
      "[[ 3.000e+00  3.000e+00  3.000e+00  3.000e+00  3.000e+00  3.000e+00]\n",
      " [ 0.000e+00 -1.125e+00 -1.636e+00 -1.929e+00 -2.118e+00 -2.250e+00]\n",
      " [ 0.000e+00  0.000e+00  2.625e-01  4.574e-01  5.975e-01  7.013e-01]\n",
      " [ 0.000e+00  2.220e-16  0.000e+00 -2.197e-02 -4.480e-02 -6.469e-02]\n",
      " [ 0.000e+00 -4.528e-16  0.000e+00  6.939e-18  8.080e-04  1.902e-03]\n",
      " [ 0.000e+00  4.123e-16  0.000e+00 -1.634e-17  0.000e+00 -1.585e-05]] \n",
      "\n",
      "[[ 0.000e+00  0.000e+00  0.000e+00  0.000e+00  0.000e+00  0.000e+00]\n",
      " [ 0.000e+00  0.000e+00  0.000e+00  0.000e+00  0.000e+00  0.000e+00]\n",
      " [ 0.000e+00  0.000e+00 -1.110e-16  1.110e-16  1.110e-16 -5.551e-17]\n",
      " [ 0.000e+00  0.000e+00  3.331e-16 -2.220e-16 -5.551e-17  0.000e+00]\n",
      " [ 0.000e+00  0.000e+00  0.000e+00 -1.110e-16 -1.665e-16  0.000e+00]\n",
      " [ 0.000e+00  0.000e+00 -1.110e-16 -2.776e-16  1.110e-16  1.110e-16]]\n"
     ]
    }
   ],
   "source": [
    "L, u = diy_lu(a)\n",
    "\n",
    "print(L, \"\\n\")\n",
    "print(u, \"\\n\")\n",
    "\n",
    "# Quick sanity check: L times U must equal the original matrix, up to floating-point errors.\n",
    "print(L@u - a)"
   ]
  },
  {
   "cell_type": "markdown",
   "metadata": {},
   "source": [
    "# II. The need for pivoting"
   ]
  },
  {
   "cell_type": "markdown",
   "metadata": {},
   "source": [
    "Let's tweak the matrix a little bit, we only change a single element:"
   ]
  },
  {
   "cell_type": "code",
   "execution_count": 163,
   "metadata": {},
   "outputs": [
    {
     "name": "stdout",
     "output_type": "stream",
     "text": [
      "[[3.    3.    3.    3.    3.    3.   ]\n",
      " [3.    1.875 1.364 1.071 0.882 0.75 ]\n",
      " [3.    1.364 0.882 0.652 0.517 0.429]\n",
      " [3.    1.071 0.652 0.469 0.366 0.3  ]\n",
      " [3.    0.882 0.517 0.366 0.283 0.231]\n",
      " [3.    0.75  0.429 0.3   0.231 0.188]]\n"
     ]
    }
   ],
   "source": [
    "\n",
    "print(a)\n",
    "a1 = a.copy()\n",
    "a1[1, 1] = 3"
   ]
  },
  {
   "cell_type": "markdown",
   "metadata": {},
   "source": [
    "Resulting matix still has full rank, but the naive LU routine breaks down."
   ]
  },
  {
   "cell_type": "code",
   "execution_count": 164,
   "metadata": {},
   "outputs": [
    {
     "data": {
      "text/plain": [
       "6"
      ]
     },
     "execution_count": 164,
     "metadata": {},
     "output_type": "execute_result"
    }
   ],
   "source": [
    "np.linalg.matrix_rank(a1)"
   ]
  },
  {
   "cell_type": "code",
   "execution_count": 165,
   "metadata": {},
   "outputs": [
    {
     "name": "stdout",
     "output_type": "stream",
     "text": [
      "[[nan nan nan nan nan nan]\n",
      " [nan nan nan nan nan nan]\n",
      " [nan nan nan nan nan nan]\n",
      " [nan nan nan nan nan nan]\n",
      " [nan nan nan nan nan nan]\n",
      " [nan nan nan nan nan nan]] [[nan nan nan nan nan nan]\n",
      " [nan nan nan nan nan nan]\n",
      " [nan nan nan nan nan nan]\n",
      " [nan nan nan nan nan nan]\n",
      " [nan nan nan nan nan nan]\n",
      " [nan nan nan nan nan nan]]\n"
     ]
    },
    {
     "name": "stderr",
     "output_type": "stream",
     "text": [
      "/Users/ananasokeanov/anaconda3/lib/python3.7/site-packages/ipykernel_launcher.py:15: RuntimeWarning: divide by zero encountered in true_divide\n",
      "  from ipykernel import kernelapp as app\n",
      "/Users/ananasokeanov/anaconda3/lib/python3.7/site-packages/ipykernel_launcher.py:17: RuntimeWarning: invalid value encountered in matmul\n",
      "/Users/ananasokeanov/anaconda3/lib/python3.7/site-packages/ipykernel_launcher.py:20: RuntimeWarning: invalid value encountered in matmul\n",
      "/Users/ananasokeanov/anaconda3/lib/python3.7/site-packages/ipykernel_launcher.py:15: RuntimeWarning: invalid value encountered in true_divide\n",
      "  from ipykernel import kernelapp as app\n"
     ]
    }
   ],
   "source": [
    "l, u = diy_lu(a1)\n",
    "\n",
    "print(l, u)"
   ]
  },
  {
   "cell_type": "markdown",
   "metadata": {},
   "source": [
    "### Test II.1\n",
    "\n",
    "For a naive LU decomposition to work, all leading minors of a matrix should be non-zero. Check if this requirement is satisfied for the two matrices `a` and `a1`.\n",
    "\n",
    "(20% of the grade)"
   ]
  },
  {
   "cell_type": "code",
   "execution_count": 166,
   "metadata": {},
   "outputs": [
    {
     "name": "stdout",
     "output_type": "stream",
     "text": [
      "True False\n"
     ]
    }
   ],
   "source": [
    "\n",
    "def minor_check(mat):\n",
    "    i = 1\n",
    "    while True and i != N + 1:\n",
    "        mm = mat[:i,:i].copy()\n",
    "        if np.linalg.det(mm) == 0:\n",
    "            i += 1\n",
    "            return False\n",
    "            \n",
    "        else:\n",
    "            return True\n",
    "            \n",
    "\n",
    "print(minor(a), minor(a1))\n",
    "\n"
   ]
  },
  {
   "cell_type": "markdown",
   "metadata": {},
   "source": [
    "### Test II.2\n",
    "\n",
    "Modify the `diy_lu` routine to implement column pivoting. Keep track of pivots, you can either construct a permutation matrix, or a swap array (your choice).\n",
    "\n",
    "(40% of the grade)\n",
    "\n",
    "Implement a function to reconstruct the original matrix from a decompositon. Test your routines on the matrices `a` and `a1`.\n",
    "\n",
    "(40% of the grade)"
   ]
  },
  {
   "cell_type": "code",
   "execution_count": 173,
   "metadata": {},
   "outputs": [
    {
     "name": "stdout",
     "output_type": "stream",
     "text": [
      "разложение а: \n",
      " (array([[ 1.000e+00,  0.000e+00,  0.000e+00,  0.000e+00,  0.000e+00,\n",
      "         0.000e+00],\n",
      "       [ 1.000e+00,  1.000e+00,  0.000e+00,  0.000e+00,  0.000e+00,\n",
      "         0.000e+00],\n",
      "       [ 1.000e+00,  1.571e+00,  1.000e+00,  0.000e+00,  0.000e+00,\n",
      "         0.000e+00],\n",
      "       [ 1.000e+00,  1.941e+00,  1.959e+00,  1.000e+00,  0.000e+00,\n",
      "         0.000e+00],\n",
      "       [ 1.000e+00,  2.200e+00,  2.760e+00,  2.310e+00,  1.000e+00,\n",
      "         0.000e+00],\n",
      "       [ 1.000e+00, -2.200e+00,  1.288e+01, -1.617e+02,  3.640e+03,\n",
      "         1.000e+00]]), array([[ 3.000e+00,  1.875e+00,  1.364e+00,  1.071e+00,  8.824e-01,\n",
      "         7.500e-01],\n",
      "       [ 0.000e+00, -5.114e-01, -4.813e-01, -4.193e-01, -3.651e-01,\n",
      "        -3.214e-01],\n",
      "       [ 0.000e+00,  0.000e+00,  4.484e-02,  5.615e-02,  5.725e-02,\n",
      "         5.510e-02],\n",
      "       [ 0.000e+00,  0.000e+00,  0.000e+00, -1.750e-03, -2.761e-03,\n",
      "        -3.250e-03],\n",
      "       [ 0.000e+00,  0.000e+00,  0.000e+00,  0.000e+00,  3.589e-05,\n",
      "         6.867e-05],\n",
      "       [ 0.000e+00,  0.000e+00,  0.000e+00,  0.000e+00,  0.000e+00,\n",
      "         5.768e-02]]))\n",
      "разложение а1: \n",
      " (array([[ 1.000e+00,  0.000e+00,  0.000e+00,  0.000e+00,  0.000e+00,\n",
      "         0.000e+00],\n",
      "       [ 1.000e+00,  1.000e+00,  0.000e+00,  0.000e+00,  0.000e+00,\n",
      "         0.000e+00],\n",
      "       [ 1.000e+00,  1.179e+00,  1.000e+00,  0.000e+00,  0.000e+00,\n",
      "         0.000e+00],\n",
      "       [ 1.000e+00,  1.294e+00,  1.550e+00,  1.000e+00,  0.000e+00,\n",
      "         0.000e+00],\n",
      "       [ 1.000e+00,  1.375e+00,  1.895e+00,  2.047e+00,  1.000e+00,\n",
      "         0.000e+00],\n",
      "       [ 1.000e+00,  0.000e+00, -1.135e+01,  1.328e+02, -3.771e+03,\n",
      "         1.000e+00]]), array([[ 3.000e+00,  3.000e+00,  1.364e+00,  1.071e+00,  8.824e-01,\n",
      "         7.500e-01],\n",
      "       [ 0.000e+00, -1.636e+00, -4.813e-01, -4.193e-01, -3.651e-01,\n",
      "        -3.214e-01],\n",
      "       [ 0.000e+00,  2.220e-16, -1.442e-01, -1.086e-01, -8.619e-02,\n",
      "        -7.117e-02],\n",
      "       [ 0.000e+00, -3.442e-16,  0.000e+00,  5.248e-03,  6.752e-03,\n",
      "         7.051e-03],\n",
      "       [ 0.000e+00,  2.838e-16,  0.000e+00,  0.000e+00, -6.444e-05,\n",
      "        -1.085e-04],\n",
      "       [ 0.000e+00,  1.119e-12,  0.000e+00,  0.000e+00,  0.000e+00,\n",
      "         9.683e-02]]))\n"
     ]
    }
   ],
   "source": [
    "\n",
    "def diy_lu_new(a):\n",
    "   \n",
    "\n",
    "    N = a.shape[0]\n",
    "    u = a.copy()\n",
    "    L = np.eye(N)\n",
    "    \n",
    "    P = np.eye(a.shape[0])\n",
    "    Pf = np.eye(a.shape[0])\n",
    "    Ps = np.eye(a.shape[0])\n",
    "    \n",
    "    for i in range (N-1):\n",
    "        \n",
    "            m = np.argmax(a[i+1:, i])\n",
    "            Pi = np.eye(a.shape[0])\n",
    "            \n",
    "            #if u[m+i+1, i] != u[i, i]:  \n",
    "            s1 = Pi[m+i+1].copy()\n",
    "            s2 = Pi[i].copy()\n",
    "            Pi[m+i+1] = s2\n",
    "            Pi[i] = s1\n",
    "            P = P @ Pi\n",
    "                \n",
    "\n",
    "            u = Pi @ u\n",
    "\n",
    "            lam = np.eye(N)\n",
    "            gamma = u[i+1:, i] / u[i, i]\n",
    "\n",
    "            lam[i+1:, i] = -gamma\n",
    "            u = lam  @ u\n",
    "            \n",
    "            \n",
    "            lam[i+1:, i] = gamma\n",
    "            L = L @ Pi @ lam \n",
    "\n",
    "            \n",
    "    \n",
    "    \n",
    "    return P.T @ L, u\n",
    "\n",
    "\n",
    "print('разложение а:', '\\n', diy_lu_new(a))\n",
    "\n",
    "\n",
    "print('разложение а1:', '\\n', diy_lu_new(a1))\n"
   ]
  },
  {
   "cell_type": "code",
   "execution_count": 183,
   "metadata": {},
   "outputs": [
    {
     "name": "stdout",
     "output_type": "stream",
     "text": [
      "(array([[3.   , 3.   , 3.   , 3.   , 3.   , 3.   ],\n",
      "       [3.   , 1.875, 1.364, 1.071, 0.882, 0.75 ],\n",
      "       [3.   , 1.364, 0.882, 0.652, 0.517, 0.429],\n",
      "       [3.   , 1.071, 0.652, 0.469, 0.366, 0.3  ],\n",
      "       [3.   , 0.75 , 0.429, 0.3  , 0.231, 0.187],\n",
      "       [3.   , 0.882, 0.517, 0.366, 0.283, 0.231]]), array([[ 0.000e+00,  0.000e+00, -4.441e-16,  0.000e+00, -4.441e-16,\n",
      "         0.000e+00],\n",
      "       [ 0.000e+00,  0.000e+00,  0.000e+00,  0.000e+00,  0.000e+00,\n",
      "         0.000e+00],\n",
      "       [ 0.000e+00,  0.000e+00,  0.000e+00,  0.000e+00,  0.000e+00,\n",
      "         0.000e+00],\n",
      "       [ 0.000e+00,  0.000e+00,  0.000e+00, -5.551e-17,  1.110e-16,\n",
      "         0.000e+00],\n",
      "       [ 0.000e+00, -1.324e-01, -8.867e-02, -6.585e-02, -5.225e-02,\n",
      "        -4.327e-02],\n",
      "       [ 0.000e+00,  1.324e-01,  8.867e-02,  6.585e-02,  5.225e-02,\n",
      "         4.327e-02]]))\n",
      "(array([[3.   , 3.   , 3.   , 3.   , 3.   , 3.   ],\n",
      "       [3.   , 3.   , 1.364, 1.071, 0.882, 0.75 ],\n",
      "       [3.   , 1.364, 0.882, 0.652, 0.517, 0.429],\n",
      "       [3.   , 1.071, 0.652, 0.469, 0.366, 0.3  ],\n",
      "       [3.   , 0.75 , 0.429, 0.3  , 0.231, 0.188],\n",
      "       [3.   , 0.882, 0.517, 0.366, 0.283, 0.231]]), array([[ 0.000e+00,  0.000e+00,  0.000e+00,  0.000e+00,  0.000e+00,\n",
      "         0.000e+00],\n",
      "       [ 0.000e+00,  0.000e+00,  0.000e+00,  0.000e+00,  0.000e+00,\n",
      "         0.000e+00],\n",
      "       [ 0.000e+00,  0.000e+00,  0.000e+00,  0.000e+00,  0.000e+00,\n",
      "         0.000e+00],\n",
      "       [ 0.000e+00,  0.000e+00,  0.000e+00, -5.551e-17,  5.551e-17,\n",
      "         0.000e+00],\n",
      "       [ 0.000e+00, -1.324e-01, -8.867e-02, -6.585e-02, -5.225e-02,\n",
      "        -4.327e-02],\n",
      "       [ 0.000e+00,  1.324e-01,  8.867e-02,  6.585e-02,  5.225e-02,\n",
      "         4.327e-02]]))\n"
     ]
    }
   ],
   "source": [
    "def diy_lu_newset(a):\n",
    "    \n",
    "    N = a.shape[0]\n",
    "    u = a.copy()\n",
    "    L = np.eye(N)\n",
    "    \n",
    "   \n",
    "    Pf = np.eye(a.shape[0])\n",
    "    Ps = np.eye(a.shape[0])\n",
    "    \n",
    "    for i in range (N-1):\n",
    "        \n",
    "            m = np.argmax(a[i+1:, i])\n",
    "            Pi = np.eye(a.shape[0])\n",
    "            \n",
    "              \n",
    "            s1 = Pi[m+i+1].copy()\n",
    "            s2 = Pi[i].copy()\n",
    "            Pi[m+i+1] = s2\n",
    "            Pi[i] = s1\n",
    "            \n",
    "\n",
    "            u = Pi @ u\n",
    "\n",
    "            lam = np.eye(N)\n",
    "            gamma = u[i+1:, i] / u[i, i]\n",
    "\n",
    "            lam[i+1:, i] = -gamma\n",
    "            u = lam  @ u\n",
    "            \n",
    "            \n",
    "            lam[i+1:, i] = gamma\n",
    "            L = L @ Pi @ lam \n",
    "\n",
    "            A = Pi @ L @ u \n",
    "        \n",
    "        \n",
    "    return A, A-a\n",
    "\n",
    "print(diy_lu_newset(a))\n",
    "\n",
    "print(diy_lu_newset(a1))"
   ]
  },
  {
   "cell_type": "code",
   "execution_count": null,
   "metadata": {},
   "outputs": [],
   "source": [
    "#WIN\n"
   ]
  },
  {
   "cell_type": "code",
   "execution_count": null,
   "metadata": {},
   "outputs": [],
   "source": []
  }
 ],
 "metadata": {
  "kernelspec": {
   "display_name": "Python 3",
   "language": "python",
   "name": "python3"
  },
  "language_info": {
   "codemirror_mode": {
    "name": "ipython",
    "version": 3
   },
   "file_extension": ".py",
   "mimetype": "text/x-python",
   "name": "python",
   "nbconvert_exporter": "python",
   "pygments_lexer": "ipython3",
   "version": "3.7.1"
  }
 },
 "nbformat": 4,
 "nbformat_minor": 2
}
